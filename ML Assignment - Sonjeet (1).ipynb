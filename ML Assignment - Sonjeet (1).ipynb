{
 "cells": [
  {
   "cell_type": "code",
   "execution_count": 2,
   "metadata": {},
   "outputs": [
    {
     "name": "stdout",
     "output_type": "stream",
     "text": [
      "P(sunny|a cone of ice cream) = 1.0\n",
      "P(rainy|a cup of hot coffee) = 2.976190476190476e-18\n"
     ]
    }
   ],
   "source": [
    "#consulted Abhishek Mahale for the assignment\n",
    "# Define prior probabilities for \"sunny\" and \"rainy\" weather\n",
    "probability_sunny = 0.6  # Example probability for sunny weather\n",
    "probability_rainy = 0.4  # Example probability for rainy weather\n",
    "\n",
    "# Define conditional probabilities for words given the weather category\n",
    "word_probabilities_sunny = {\n",
    "    'a': 0.2,    # Example probabilities for each word\n",
    "    'cone': 0.4,\n",
    "    'of': 0.6,\n",
    "    'ice': 0.8,\n",
    "    'cream': 0.7\n",
    "}\n",
    "\n",
    "word_probabilities_rainy = {\n",
    "    'a': 0.2,    # Example probabilities for each word\n",
    "    'cup': 0.7,\n",
    "    'of': 0.6,\n",
    "    'hot': 0.4,\n",
    "    'coffee': 0.8\n",
    "}\n",
    "\n",
    "# Define the input statements\n",
    "statement_sunny = \"a cone of ice cream\"\n",
    "statement_rainy = \"a cup of hot coffee\"\n",
    "\n",
    "# Tokenize the input statements\n",
    "words_sunny = statement_sunny.split()\n",
    "words_rainy = statement_rainy.split()\n",
    "\n",
    "# Initialize the probabilities\n",
    "probability_sunny_given_statement = probability_sunny\n",
    "probability_rainy_given_statement = probability_rainy\n",
    "\n",
    "# Calculate the conditional probabilities for each word\n",
    "for word in words_sunny:\n",
    "    probability_sunny_given_statement *= word_probabilities_sunny.get(word, 1e-6)  # Use a small value for unknown words\n",
    "    probability_rainy_given_statement *= word_probabilities_rainy.get(word, 1e-6)\n",
    "\n",
    "# Normalize the probabilities\n",
    "total_probability = probability_sunny_given_statement + probability_rainy_given_statement\n",
    "probability_sunny_given_statement /= total_probability\n",
    "probability_rainy_given_statement /= total_probability\n",
    "\n",
    "# Output the results\n",
    "print(\"P(sunny|a cone of ice cream) =\", probability_sunny_given_statement)\n",
    "print(\"P(rainy|a cup of hot coffee) =\", probability_rainy_given_statement)\n"
   ]
  },
  {
   "cell_type": "code",
   "execution_count": null,
   "metadata": {},
   "outputs": [],
   "source": []
  }
 ],
 "metadata": {
  "kernelspec": {
   "display_name": "Python 3",
   "language": "python",
   "name": "python3"
  },
  "language_info": {
   "codemirror_mode": {
    "name": "ipython",
    "version": 3
   },
   "file_extension": ".py",
   "mimetype": "text/x-python",
   "name": "python",
   "nbconvert_exporter": "python",
   "pygments_lexer": "ipython3",
   "version": "3.7.6"
  }
 },
 "nbformat": 4,
 "nbformat_minor": 4
}
